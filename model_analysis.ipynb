{
 "cells": [
  {
   "cell_type": "markdown",
   "metadata": {},
   "source": [
    "# Loading the dataset "
   ]
  },
  {
   "cell_type": "code",
   "execution_count": 40,
   "metadata": {},
   "outputs": [],
   "source": [
    "import polars as pl\n",
    "import openai\n",
    "import numpy as np\n",
    "import json\n",
    "from dotenv import dotenv_values\n",
    "\n",
    "config = dotenv_values(\".env\")\n",
    "key = config['THE_KEY']\n",
    "\n",
    "client = openai.AzureOpenAI(\n",
    "    azure_endpoint=config['ENDPOINT'],\n",
    "    api_key=key,\n",
    "    api_version=\"2023-05-15\"\n",
    ")"
   ]
  },
  {
   "cell_type": "markdown",
   "metadata": {},
   "source": [
    "## Recovering the annotation shuffle order and the ground-truth labels"
   ]
  },
  {
   "cell_type": "code",
   "execution_count": null,
   "metadata": {},
   "outputs": [],
   "source": []
  },
  {
   "cell_type": "markdown",
   "metadata": {},
   "source": [
    "## Generating predictions with GPT-4"
   ]
  },
  {
   "cell_type": "code",
   "execution_count": 12,
   "metadata": {},
   "outputs": [],
   "source": [
    "import pandas as pd\n",
    "# path = \"Sentence Shuffling/shuffled_sent_data.jsonl\"\n",
    "sentence_json = \"Sentence Shuffling/sentencedataset.json\" # this is the original json file\n",
    "\n",
    "# sentence json is a json line file\n",
    "# read the json file\n",
    "df = pd.read_json(sentence_json, lines=True)\n",
    "df_pl = pl.from_pandas(df)\n",
    "df_pl = df_pl.group_by([\"paragraph_id\", \"story_id\", \"source\", \"URL\", \"title\"]).agg(\n",
    "    pl.col('sentence'), pl.col('sentence_id') \n",
    ")\n",
    "# "
   ]
  },
  {
   "cell_type": "code",
   "execution_count": 89,
   "metadata": {},
   "outputs": [
    {
     "data": {
      "text/html": [
       "<div><style>\n",
       ".dataframe > thead > tr > th,\n",
       ".dataframe > tbody > tr > td {\n",
       "  text-align: right;\n",
       "  white-space: pre-wrap;\n",
       "}\n",
       "</style>\n",
       "<small>shape: (1_379, 9)</small><table border=\"1\" class=\"dataframe\"><thead><tr><th>paragraph_id</th><th>story_id</th><th>source</th><th>URL</th><th>title</th><th>sentence</th><th>sentence_id</th><th>num_sents</th><th>shuffled_indices</th></tr><tr><td>i64</td><td>i64</td><td>str</td><td>str</td><td>str</td><td>list[str]</td><td>list[i64]</td><td>u32</td><td>list[i64]</td></tr></thead><tbody><tr><td>16</td><td>16</td><td>&quot;ChiSCor&quot;</td><td>&quot;https://osf.io…</td><td>&quot;035401&quot;</td><td>[&quot;once upon the time there was this cowboy and he had a farm on the border between America and Mexico.&quot;, &quot;he helped the police chief in the place called Arizona.&quot;, … &quot;the end.&quot;]</td><td>[359, 360, … 376]</td><td>18</td><td>[0, 1, … 6]</td></tr><tr><td>17</td><td>17</td><td>&quot;ChiSCor&quot;</td><td>&quot;https://osf.io…</td><td>&quot;135401&quot;</td><td>[&quot;once upon a time there lived a little girl called Wednesday.&quot;, &quot;she lived in a big house in a dark forest where it was always misty.&quot;, … &quot;the end.&quot;]</td><td>[377, 378, … 390]</td><td>14</td><td>[10, 2, … 4]</td></tr><tr><td>29</td><td>29</td><td>&quot;ChiSCor&quot;</td><td>&quot;https://osf.io…</td><td>&quot;085402&quot;</td><td>[&quot;there used to be a fairy who&#x27;s name was Maleficent.&quot;, &quot;she used to fight wars in the mosque which is her home.&quot;, … &quot;the end.&quot;]</td><td>[545, 546, … 560]</td><td>16</td><td>[1, 13, … 10]</td></tr><tr><td>51</td><td>51</td><td>&quot;ChiSCor&quot;</td><td>&quot;https://osf.io…</td><td>&quot;045401&quot;</td><td>[&quot;once upon a time there was a boy called Andrew and it was his first day of school.&quot;, &quot;he was short and people used to make fun of him.&quot;, … &quot;the end.&quot;]</td><td>[805, 806, … 813]</td><td>9</td><td>[4, 2, … 8]</td></tr><tr><td>59</td><td>59</td><td>&quot;ChiSCor&quot;</td><td>&quot;https://osf.io…</td><td>&quot;055701&quot;</td><td>[&quot;I&#x27;m gonna tell about a boy called Kin.&quot;, &quot;he lived in Japan and his father was a ninja and Kin wanted to become also a ninja.&quot;, … &quot;and that is the end of the story.&quot;]</td><td>[916, 917, … 941]</td><td>26</td><td>[15, 16, … 25]</td></tr><tr><td>61</td><td>61</td><td>&quot;ChiSCor&quot;</td><td>&quot;https://osf.io…</td><td>&quot;065402&quot;</td><td>[&quot;once upon a time there lived a family with a daughter a mother and a father.&quot;, &quot;the daughter was very spoiled by her parents.&quot;, … &quot;and they lived happily ever after.&quot;]</td><td>[954, 955, … 964]</td><td>11</td><td>[4, 2, … 1]</td></tr><tr><td>73</td><td>66</td><td>&quot;The Aesop for …</td><td>&quot;https://www.gu…</td><td>&quot;Hercules and t…</td><td>[&quot;The farmer climbed down from his seat and stood beside the wagon looking at it but without making the least effort to get it out of the rut.&quot;, &quot;All he did was to curse his bad luck and call loudly on Hercules to come to his aid.&quot;, &quot;Then, it is said, Hercules really did appear, saying:&quot;]</td><td>[1046, 1047, 1048]</td><td>3</td><td>[2, 1, 0]</td></tr><tr><td>94</td><td>69</td><td>&quot;The Aesop for …</td><td>&quot;https://www.gu…</td><td>&quot;The Wolf and t…</td><td>[&quot;&quot;What!&quot;, &quot;A chain!&quot;&quot;, … &quot;&quot;Don&#x27;t you go wherever you please?&quot;&quot;]</td><td>[1094, 1095, … 1097]</td><td>4</td><td>[2, 3, … 0]</td></tr><tr><td>98</td><td>70</td><td>&quot;The Aesop for …</td><td>&quot;https://www.gu…</td><td>&quot;The Wolf and h…</td><td>[&quot;&quot;Why,&quot; exclaimed the Wolf proudly, &quot;see how big I am!&quot;, &quot;Fancy me running away from a puny Lion!&quot;, &quot;I&#x27;ll show him who is fit to be king, he or I.&quot;&quot;]</td><td>[1106, 1107, 1108]</td><td>3</td><td>[2, 1, 0]</td></tr><tr><td>99</td><td>70</td><td>&quot;The Aesop for …</td><td>&quot;https://www.gu…</td><td>&quot;The Wolf and h…</td><td>[&quot;Just then an immense shadow blotted him out entirely, and the next instant a Lion struck him down with a single blow.&quot;]</td><td>[1109]</td><td>1</td><td>[0]</td></tr><tr><td>109</td><td>73</td><td>&quot;The Aesop for …</td><td>&quot;https://www.gu…</td><td>&quot;The Lion, the …</td><td>[&quot;The Fox wasted no time in talking.&quot;, &quot;He quickly piled all the game into one great heap.&quot;, &quot;From this he took a very small portion for himself, such undesirable bits as the horns and hoofs of a mountain goat, and the end of an ox tail.&quot;]</td><td>[1129, 1130, 1131]</td><td>3</td><td>[2, 0, 1]</td></tr><tr><td>116</td><td>74</td><td>&quot;The Aesop for …</td><td>&quot;https://www.gu…</td><td>&quot;The Fox and th…</td><td>[&quot;The hungry Stork was much displeased at the trick, but he was a calm, even-tempered fellow and saw no good in flying into a rage.&quot;, &quot;Instead, not long afterward, he invited the Fox to dine with him in turn.&quot;, … &quot;And when the Fox lost his temper, the Stork said calmly: Do not play tricks on your neighbors unless you can stand the same treatment yourself.&quot;]</td><td>[1143, 1144, … 1148]</td><td>6</td><td>[1, 2, … 3]</td></tr><tr><td>&hellip;</td><td>&hellip;</td><td>&hellip;</td><td>&hellip;</td><td>&hellip;</td><td>&hellip;</td><td>&hellip;</td><td>&hellip;</td><td>&hellip;</td></tr><tr><td>1293</td><td>225</td><td>&quot;The Works of E…</td><td>&quot;https://www.gu…</td><td>&quot;The Pit and th…</td><td>[&quot;Nor had I erred in my calculations—nor had I endured in vain.&quot;, &quot;I at length felt that I was free.&quot;, … &quot;For the moment, at least, I was free.&quot;]</td><td>[5301, 5302, … 5311]</td><td>11</td><td>[10, 2, … 6]</td></tr><tr><td>1309</td><td>226</td><td>&quot;The Works of E…</td><td>&quot;https://www.gu…</td><td>&quot;The Black Cat&quot;</td><td>[&quot;I am above the weakness of seeking to establish a sequence of cause and effect, between the disaster and the atrocity.&quot;, &quot;But I am detailing a chain of facts—and wish not to leave even a possible link imperfect.&quot;, … &quot;There was a rope about the animal’s neck.&quot;]</td><td>[5439, 5440, … 5449]</td><td>11</td><td>[1, 8, … 5]</td></tr><tr><td>1313</td><td>226</td><td>&quot;The Works of E…</td><td>&quot;https://www.gu…</td><td>&quot;The Black Cat&quot;</td><td>[&quot;I continued my caresses, and, when I prepared to go home, the animal evinced a disposition to accompany me.&quot;, &quot;I permitted it to do so; occasionally stooping and patting it as I proceeded.&quot;, &quot;When it reached the house it domesticated itself at once, and became immediately a great favorite with my wife.&quot;]</td><td>[5467, 5468, 5469]</td><td>3</td><td>[2, 0, 1]</td></tr><tr><td>1324</td><td>226</td><td>&quot;The Works of E…</td><td>&quot;https://www.gu…</td><td>&quot;The Black Cat&quot;</td><td>[&quot;The second and the third day passed, and still my tormentor came not.&quot;, &quot;Once again I breathed as a freeman.&quot;, … &quot;I looked upon my future felicity as secured.&quot;]</td><td>[5524, 5525, … 5532]</td><td>9</td><td>[0, 5, … 7]</td></tr><tr><td>1327</td><td>226</td><td>&quot;The Works of E…</td><td>&quot;https://www.gu…</td><td>&quot;The Black Cat&quot;</td><td>[&quot;But may God shield and deliver me from the fangs of the Arch-Fiend!&quot;, &quot;No sooner had the reverberation of my blows sunk into silence, than I was answered by a voice from within the tomb!—by a cry, at first muffled and broken, like the sobbing of a child, and then quickly swelling into one long, loud, and continuous scream, utterly anomalous and inhuman—a howl—a wailing shriek, half of horror and half of triumph, such as might have arisen only out of hell, conjointly from the throats of the damned in their agony and of the demons that exult in the damnation.&quot;]</td><td>[5550, 5551]</td><td>2</td><td>[0, 1]</td></tr><tr><td>1330</td><td>227</td><td>&quot;The Works of E…</td><td>&quot;https://www.gu…</td><td>&quot;The Facts in t…</td><td>[&quot;It is now rendered necessary that I give the facts—as far as I comprehend them myself.&quot;, &quot;They are, succinctly, these:&quot;]</td><td>[5563, 5564]</td><td>2</td><td>[1, 0]</td></tr><tr><td>1338</td><td>227</td><td>&quot;The Works of E…</td><td>&quot;https://www.gu…</td><td>&quot;The Facts in t…</td><td>[&quot;On quitting the invalid’s bed-side to hold conversation with myself, Doctors D—— and F—— had bidden him a final farewell.&quot;, &quot;It had not been their intention to return; but, at my request, they agreed to look in upon the patient about ten the next night.&quot;]</td><td>[5602, 5603]</td><td>2</td><td>[0, 1]</td></tr><tr><td>1339</td><td>227</td><td>&quot;The Works of E…</td><td>&quot;https://www.gu…</td><td>&quot;The Facts in t…</td><td>[&quot;When they had gone, I spoke freely with M. Valdemar on the subject of his approaching dissolution, as well as, more particularly, of the experiment proposed.&quot;, &quot;He still professed himself quite willing and even anxious to have it made, and urged me to commence it at once.&quot;, … &quot;It had been my design, originally, to wait for the physicians; but I was induced to proceed, first, by the urgent entreaties of M. Valdemar, and secondly, by my conviction that I had not a moment to lose, as he was evidently sinking fast.&quot;]</td><td>[5604, 5605, … 5608]</td><td>5</td><td>[2, 1, … 0]</td></tr><tr><td>1341</td><td>227</td><td>&quot;The Works of E…</td><td>&quot;https://www.gu…</td><td>&quot;The Facts in t…</td><td>[&quot;It wanted about five minutes of eight when, taking the patient’s hand, I begged him to state, as distinctly as he could, to Mr. L—l, whether he (M. Valdemar) was entirely willing that I should make the experiment of mesmerizing him in his then condition.&quot;]</td><td>[5610]</td><td>1</td><td>[0]</td></tr><tr><td>1349</td><td>227</td><td>&quot;The Works of E…</td><td>&quot;https://www.gu…</td><td>&quot;The Facts in t…</td><td>[&quot;As I approached M. Valdemar I made a kind of half effort to influence his right arm into pursuit of my own, as I passed the latter gently to and fro above his person.&quot;, &quot;In such experiments with this patient, I had never perfectly succeeded before, and assuredly I had little thought of succeeding now; but to my astonishment, his arm very readily, although feebly, followed every direction I assigned it with mine.&quot;, &quot;I determined to hazard a few words of conversation.&quot;]</td><td>[5633, 5634, 5635]</td><td>3</td><td>[1, 0, 2]</td></tr><tr><td>1351</td><td>227</td><td>&quot;The Works of E…</td><td>&quot;https://www.gu…</td><td>&quot;The Facts in t…</td><td>[&quot;“Yes;—asleep now.&quot;, &quot;Do not wake me!—let me die so!”&quot;]</td><td>[5639, 5640]</td><td>2</td><td>[1, 0]</td></tr><tr><td>1361</td><td>227</td><td>&quot;The Works of E…</td><td>&quot;https://www.gu…</td><td>&quot;The Facts in t…</td><td>[&quot;While I spoke, there came a marked change over the countenance of the sleep-waker.&quot;, &quot;The eyes rolled themselves slowly open, the pupils disappearing upwardly; the skin generally assumed a cadaverous hue, resembling not so much parchment as white paper; and the circular hectic spots which, hitherto, had been strongly defined in the centre of each cheek, went out at once.&quot;, … &quot;I presume that no member of the party then present had been unaccustomed to death-bed horrors; but so hideous beyond conception was the appearance of M. Valdemar at this moment, that there was a general shrinking back from the region of the bed.&quot;]</td><td>[5657, 5658, … 5661]</td><td>5</td><td>[3, 2, … 0]</td></tr></tbody></table></div>"
      ],
      "text/plain": [
       "shape: (1_379, 9)\n",
       "┌───────────┬──────────┬───────────┬───────────┬───┬───────────┬───────────┬───────────┬───────────┐\n",
       "│ paragraph ┆ story_id ┆ source    ┆ URL       ┆ … ┆ sentence  ┆ sentence_ ┆ num_sents ┆ shuffled_ │\n",
       "│ _id       ┆ ---      ┆ ---       ┆ ---       ┆   ┆ ---       ┆ id        ┆ ---       ┆ indices   │\n",
       "│ ---       ┆ i64      ┆ str       ┆ str       ┆   ┆ list[str] ┆ ---       ┆ u32       ┆ ---       │\n",
       "│ i64       ┆          ┆           ┆           ┆   ┆           ┆ list[i64] ┆           ┆ list[i64] │\n",
       "╞═══════════╪══════════╪═══════════╪═══════════╪═══╪═══════════╪═══════════╪═══════════╪═══════════╡\n",
       "│ 16        ┆ 16       ┆ ChiSCor   ┆ https://o ┆ … ┆ [\"once    ┆ [359,     ┆ 18        ┆ [0, 1, …  │\n",
       "│           ┆          ┆           ┆ sf.io/5h7 ┆   ┆ upon the  ┆ 360, …    ┆           ┆ 6]        │\n",
       "│           ┆          ┆           ┆ za/?view_ ┆   ┆ time      ┆ 376]      ┆           ┆           │\n",
       "│           ┆          ┆           ┆ only=…    ┆   ┆ there was ┆           ┆           ┆           │\n",
       "│           ┆          ┆           ┆           ┆   ┆ t…        ┆           ┆           ┆           │\n",
       "│ 17        ┆ 17       ┆ ChiSCor   ┆ https://o ┆ … ┆ [\"once    ┆ [377,     ┆ 14        ┆ [10, 2, … │\n",
       "│           ┆          ┆           ┆ sf.io/5h7 ┆   ┆ upon a    ┆ 378, …    ┆           ┆ 4]        │\n",
       "│           ┆          ┆           ┆ za/?view_ ┆   ┆ time      ┆ 390]      ┆           ┆           │\n",
       "│           ┆          ┆           ┆ only=…    ┆   ┆ there     ┆           ┆           ┆           │\n",
       "│           ┆          ┆           ┆           ┆   ┆ lived a…  ┆           ┆           ┆           │\n",
       "│ 29        ┆ 29       ┆ ChiSCor   ┆ https://o ┆ … ┆ [\"there   ┆ [545,     ┆ 16        ┆ [1, 13, … │\n",
       "│           ┆          ┆           ┆ sf.io/5h7 ┆   ┆ used to   ┆ 546, …    ┆           ┆ 10]       │\n",
       "│           ┆          ┆           ┆ za/?view_ ┆   ┆ be a      ┆ 560]      ┆           ┆           │\n",
       "│           ┆          ┆           ┆ only=…    ┆   ┆ fairy     ┆           ┆           ┆           │\n",
       "│           ┆          ┆           ┆           ┆   ┆ who's…    ┆           ┆           ┆           │\n",
       "│ 51        ┆ 51       ┆ ChiSCor   ┆ https://o ┆ … ┆ [\"once    ┆ [805,     ┆ 9         ┆ [4, 2, …  │\n",
       "│           ┆          ┆           ┆ sf.io/5h7 ┆   ┆ upon a    ┆ 806, …    ┆           ┆ 8]        │\n",
       "│           ┆          ┆           ┆ za/?view_ ┆   ┆ time      ┆ 813]      ┆           ┆           │\n",
       "│           ┆          ┆           ┆ only=…    ┆   ┆ there was ┆           ┆           ┆           │\n",
       "│           ┆          ┆           ┆           ┆   ┆ a b…      ┆           ┆           ┆           │\n",
       "│ …         ┆ …        ┆ …         ┆ …         ┆ … ┆ …         ┆ …         ┆ …         ┆ …         │\n",
       "│ 1341      ┆ 227      ┆ The Works ┆ https://w ┆ … ┆ [\"It      ┆ [5610]    ┆ 1         ┆ [0]       │\n",
       "│           ┆          ┆ of Edgar  ┆ ww.gutenb ┆   ┆ wanted    ┆           ┆           ┆           │\n",
       "│           ┆          ┆ Allen Poe ┆ erg.org/c ┆   ┆ about     ┆           ┆           ┆           │\n",
       "│           ┆          ┆ Vol…      ┆ ache/…    ┆   ┆ five      ┆           ┆           ┆           │\n",
       "│           ┆          ┆           ┆           ┆   ┆ minutes   ┆           ┆           ┆           │\n",
       "│           ┆          ┆           ┆           ┆   ┆ o…        ┆           ┆           ┆           │\n",
       "│ 1349      ┆ 227      ┆ The Works ┆ https://w ┆ … ┆ [\"As I    ┆ [5633,    ┆ 3         ┆ [1, 0, 2] │\n",
       "│           ┆          ┆ of Edgar  ┆ ww.gutenb ┆   ┆ approache ┆ 5634,     ┆           ┆           │\n",
       "│           ┆          ┆ Allen Poe ┆ erg.org/c ┆   ┆ d M.      ┆ 5635]     ┆           ┆           │\n",
       "│           ┆          ┆ Vol…      ┆ ache/…    ┆   ┆ Valdemar  ┆           ┆           ┆           │\n",
       "│           ┆          ┆           ┆           ┆   ┆ I …       ┆           ┆           ┆           │\n",
       "│ 1351      ┆ 227      ┆ The Works ┆ https://w ┆ … ┆ [\"“Yes;—a ┆ [5639,    ┆ 2         ┆ [1, 0]    │\n",
       "│           ┆          ┆ of Edgar  ┆ ww.gutenb ┆   ┆ sleep     ┆ 5640]     ┆           ┆           │\n",
       "│           ┆          ┆ Allen Poe ┆ erg.org/c ┆   ┆ now.\",    ┆           ┆           ┆           │\n",
       "│           ┆          ┆ Vol…      ┆ ache/…    ┆   ┆ \"Do not   ┆           ┆           ┆           │\n",
       "│           ┆          ┆           ┆           ┆   ┆ wa…       ┆           ┆           ┆           │\n",
       "│ 1361      ┆ 227      ┆ The Works ┆ https://w ┆ … ┆ [\"While I ┆ [5657,    ┆ 5         ┆ [3, 2, …  │\n",
       "│           ┆          ┆ of Edgar  ┆ ww.gutenb ┆   ┆ spoke,    ┆ 5658, …   ┆           ┆ 0]        │\n",
       "│           ┆          ┆ Allen Poe ┆ erg.org/c ┆   ┆ there     ┆ 5661]     ┆           ┆           │\n",
       "│           ┆          ┆ Vol…      ┆ ache/…    ┆   ┆ came a    ┆           ┆           ┆           │\n",
       "│           ┆          ┆           ┆           ┆   ┆ ma…       ┆           ┆           ┆           │\n",
       "└───────────┴──────────┴───────────┴───────────┴───┴───────────┴───────────┴───────────┴───────────┘"
      ]
     },
     "execution_count": 89,
     "metadata": {},
     "output_type": "execute_result"
    }
   ],
   "source": [
    "df_pl.filter(pl.col('Source'))"
   ]
  },
  {
   "cell_type": "code",
   "execution_count": 57,
   "metadata": {},
   "outputs": [],
   "source": [
    "np.random.seed(42)\n",
    "\n",
    "def get_shuffled_sentences(row):\n",
    "    print(row)\n",
    "    # shuffled_indices = row['shuffled_indices']\n",
    "    # sentence = row['sentence']\n",
    "    # return [sentence[i] for i in shuffled_indices]\n",
    "df_pl = df_pl.with_columns(\n",
    "    pl.col('sentence_id').list.lengths().alias('num_sents')\n",
    ").with_columns(\n",
    "    # create a new column that is a shuffled list from 0 to num_sents\n",
    "    pl.col('num_sents').map_elements(\n",
    "        lambda s: np.random.choice(s, s, replace=False).tolist() \n",
    "    ).alias('shuffled_indices')\n",
    ")"
   ]
  },
  {
   "cell_type": "code",
   "execution_count": 52,
   "metadata": {},
   "outputs": [
    {
     "data": {
      "text/plain": [
       "['paragraph_id',\n",
       " 'story_id',\n",
       " 'source',\n",
       " 'URL',\n",
       " 'title',\n",
       " 'sentence',\n",
       " 'sentence_id',\n",
       " 'num_sents',\n",
       " 'shuffled_indices']"
      ]
     },
     "execution_count": 52,
     "metadata": {},
     "output_type": "execute_result"
    }
   ],
   "source": [
    "df_pl.columns"
   ]
  },
  {
   "cell_type": "markdown",
   "metadata": {},
   "source": [
    "## Dataset statistics"
   ]
  },
  {
   "cell_type": "markdown",
   "metadata": {},
   "source": [
    "### ChisCor"
   ]
  },
  {
   "cell_type": "code",
   "execution_count": 24,
   "metadata": {},
   "outputs": [
    {
     "name": "stdout",
     "output_type": "stream",
     "text": [
      "NUmber of stories: 65\n"
     ]
    },
    {
     "data": {
      "text/plain": [
       "<seaborn.axisgrid.FacetGrid at 0x175a85640>"
      ]
     },
     "execution_count": 24,
     "metadata": {},
     "output_type": "execute_result"
    },
    {
     "data": {
      "image/png": "[encoded data removed]",
      "text/plain": [
       "<Figure size 500x500 with 1 Axes>"
      ]
     },
     "metadata": {},
     "output_type": "display_data"
    }
   ],
   "source": [
    "import seaborn as sns\n",
    "# number of stories:\n",
    "num_stories = len(df_pl.filter(pl.col('source')=='ChiSCor')['story_id'].unique())\n",
    "print(f\"NUmber of stories: {num_stories}\")\n",
    "# distribution of number of sentences per datapoint in chiscor\n",
    "\n",
    "num_sents_series = df_pl.filter(pl.col('source')=='ChiSCor').with_columns(pl.col('sentence').list.lengths().alias('num_sentences'))['num_sentences']\n",
    "sns.displot(num_sents_series, kde=True)"
   ]
  },
  {
   "cell_type": "code",
   "execution_count": 28,
   "metadata": {},
   "outputs": [
    {
     "data": {
      "text/plain": [
       "[\"I'm going to continue the story.\",\n",
       " 'so then uncle Vernon had planned that they were going to get a new house which was far in the sea.',\n",
       " 'so then they went to the house.',\n",
       " 'and then Harry was asleep.',\n",
       " 'but then the day that were there.',\n",
       " \"so then it was almost midnight and then at midnight it was Harry's birthday now.\",\n",
       " 'and then Harry was eleven.',\n",
       " 'but no hold on.',\n",
       " 'so then it was almost midnight one minute and it and it was his birthday.',\n",
       " 'so then he drew a cake in the dust.',\n",
       " 'and then three two one it was his.',\n",
       " 'then there was a loud crash.',\n",
       " 'and then the door went went fell to the floor off its off its hinges.',\n",
       " 'then some kind of big shadowy figure which was ginormous stepped into the room.',\n",
       " 'and suddenly he said sorry about that and he closed the door.',\n",
       " 'and then Harry saw that there was a ginormous man right in front of him.',\n",
       " 'and then Harry said who are you?',\n",
       " \"and then Hagrid said oh yeah I haven't introduced myself I am Hagrid Hagrid.\",\n",
       " 'I forgot his back name.',\n",
       " 'and then he said I am Rubius Hagrid.',\n",
       " 'and then Harry said and what are you doing here?',\n",
       " 'and then Hagrid said well hello Harry.',\n",
       " 'and he said it to Dudley and then Dudley said I am not Harry.',\n",
       " 'and then Harry stepped out from behind the wall and then said I am Harry.',\n",
       " 'and then Hagrid said oh hello come on Harry you need to go to Hogwarts school.',\n",
       " \"and then Harry said what what's Hogwarts?\",\n",
       " \"and then Hagrid said didn't you know you are a wizard?\",\n",
       " 'I am a what?',\n",
       " 'a wizard.',\n",
       " 'I think you are mistaken.',\n",
       " \"I'm not.\",\n",
       " 'you are a wizard.',\n",
       " \"haven't you gotten your letter?\",\n",
       " 'oh the letter.',\n",
       " 'it was written in the letter.',\n",
       " \"wait your aunt and uncle haven't been letting you have those letters?\",\n",
       " 'well no.',\n",
       " 'and then Hagrid said how dare them.',\n",
       " \"and then and then Hagrid said oh I've got something for you.\",\n",
       " 'he looked in his jacket and then took out a box.',\n",
       " 'Harry opened it.',\n",
       " 'it was a cake.',\n",
       " \"and then Hagrid said it's just for you.\",\n",
       " 'and then Harry put it down and said.',\n",
       " 'and then Hagrid said do you want to roll some sausages?',\n",
       " 'and then Harry said yes\\nand then uncle Vernon and aunt Petunia came down.',\n",
       " 'and then said how dare you?',\n",
       " \"and then and then he said well fine I'll put the fire on.\",\n",
       " 'no need.',\n",
       " 'and Hagrid said no need.',\n",
       " 'and then he went to the fire and he took out a pink umbrella and then pointed it at the fire and said some kind of spell under his breath.',\n",
       " 'and then the fire suddenly something red shot from his umbrella and then went into the fire.',\n",
       " 'and then the fire went on.',\n",
       " 'and then Harry had one sausage.',\n",
       " \"and then and then Hagrid said oh yeah I'm going to give you the letter.\",\n",
       " 'Harry got the letter and then opened it.',\n",
       " 'it said dear Harry you are a wizard.',\n",
       " 'you are going to Hogwarts school of witchcraft and wizardry.',\n",
       " 'and then Harry says yours sincerely Dumbledore.',\n",
       " 'and then Harry said who is Dumbledore?',\n",
       " 'and then Hagrid said he is the headmaster of the school Hogwarts.',\n",
       " 'and Harry said really?',\n",
       " 'and then.',\n",
       " 'to be continued.']"
      ]
     },
     "execution_count": 28,
     "metadata": {},
     "output_type": "execute_result"
    }
   ],
   "source": [
    "# what's up with the 60+ sentence story?\n",
    "df_pl.filter(pl.col('source')=='ChiSCor').filter(pl.col('sentence').list.lengths() > 60)['sentence'][0].to_list()"
   ]
  },
  {
   "cell_type": "code",
   "execution_count": 84,
   "metadata": {},
   "outputs": [
    {
     "name": "stderr",
     "output_type": "stream",
     "text": [
      "  0%|          | 0/1379 [00:00<?, ?it/s]\u001b[32m2024-05-13 10:12:55.898\u001b[0m | \u001b[31m\u001b[1mERROR   \u001b[0m | \u001b[36m__main__\u001b[0m:\u001b[36m<module>\u001b[0m:\u001b[36m35\u001b[0m - \u001b[31m\u001b[1mContent filter was triggered. Skipping this one.\u001b[0m\n",
      "  0%|          | 2/1379 [03:03<35:04:48, 91.71s/it]\n"
     ]
    },
    {
     "ename": "KeyboardInterrupt",
     "evalue": "",
     "output_type": "error",
     "traceback": [
      "\u001b[0;31m---------------------------------------------------------------------------\u001b[0m",
      "\u001b[0;31mKeyboardInterrupt\u001b[0m                         Traceback (most recent call last)",
      "\u001b[1;32m/Users/smfsamir/narrative-reorder/model_analysis.ipynb Cell 10\u001b[0m line \u001b[0;36m3\n\u001b[1;32m     <a href='vscode-notebook-cell:/Users/smfsamir/narrative-reorder/model_analysis.ipynb#X12sZmlsZQ%3D%3D?line=30'>31</a>\u001b[0m \u001b[39mfor\u001b[39;00m i \u001b[39min\u001b[39;00m tqdm(\u001b[39mrange\u001b[39m(\u001b[39mlen\u001b[39m(df_pl))):\n\u001b[1;32m     <a href='vscode-notebook-cell:/Users/smfsamir/narrative-reorder/model_analysis.ipynb#X12sZmlsZQ%3D%3D?line=31'>32</a>\u001b[0m     \u001b[39mtry\u001b[39;00m:\n\u001b[0;32m---> <a href='vscode-notebook-cell:/Users/smfsamir/narrative-reorder/model_analysis.ipynb#X12sZmlsZQ%3D%3D?line=32'>33</a>\u001b[0m         predicted_labels \u001b[39m=\u001b[39m predict_order(df_pl[\u001b[39m'\u001b[39;49m\u001b[39msentence\u001b[39;49m\u001b[39m'\u001b[39;49m][i]\u001b[39m.\u001b[39;49mto_list(), df_pl[\u001b[39m'\u001b[39;49m\u001b[39mshuffled_indices\u001b[39;49m\u001b[39m'\u001b[39;49m][i]\u001b[39m.\u001b[39;49mto_list(), predict_sents_and_labels\u001b[39m=\u001b[39;49m\u001b[39mTrue\u001b[39;49;00m)\n\u001b[1;32m     <a href='vscode-notebook-cell:/Users/smfsamir/narrative-reorder/model_analysis.ipynb#X12sZmlsZQ%3D%3D?line=33'>34</a>\u001b[0m     \u001b[39mexcept\u001b[39;00m openai\u001b[39m.\u001b[39mBadRequestError \u001b[39mas\u001b[39;00m e: \u001b[39m# Sometimes doesn't make it through the content filter\u001b[39;00m\n\u001b[1;32m     <a href='vscode-notebook-cell:/Users/smfsamir/narrative-reorder/model_analysis.ipynb#X12sZmlsZQ%3D%3D?line=34'>35</a>\u001b[0m         logger\u001b[39m.\u001b[39merror(\u001b[39m\"\u001b[39m\u001b[39mContent filter was triggered. Skipping this one.\u001b[39m\u001b[39m\"\u001b[39m)\n",
      "\u001b[1;32m/Users/smfsamir/narrative-reorder/model_analysis.ipynb Cell 10\u001b[0m line \u001b[0;36m1\n\u001b[1;32m     <a href='vscode-notebook-cell:/Users/smfsamir/narrative-reorder/model_analysis.ipynb#X12sZmlsZQ%3D%3D?line=11'>12</a>\u001b[0m prompt_and_sents \u001b[39m=\u001b[39m prompt \u001b[39m+\u001b[39m enumerated_sents\n\u001b[1;32m     <a href='vscode-notebook-cell:/Users/smfsamir/narrative-reorder/model_analysis.ipynb#X12sZmlsZQ%3D%3D?line=12'>13</a>\u001b[0m message \u001b[39m=\u001b[39m [{\u001b[39m\"\u001b[39m\u001b[39mrole\u001b[39m\u001b[39m\"\u001b[39m: \u001b[39m\"\u001b[39m\u001b[39muser\u001b[39m\u001b[39m\"\u001b[39m, \u001b[39m\"\u001b[39m\u001b[39mcontent\u001b[39m\u001b[39m\"\u001b[39m: prompt_and_sents}]\n\u001b[0;32m---> <a href='vscode-notebook-cell:/Users/smfsamir/narrative-reorder/model_analysis.ipynb#X12sZmlsZQ%3D%3D?line=13'>14</a>\u001b[0m response \u001b[39m=\u001b[39m client\u001b[39m.\u001b[39;49mchat\u001b[39m.\u001b[39;49mcompletions\u001b[39m.\u001b[39;49mcreate(\n\u001b[1;32m     <a href='vscode-notebook-cell:/Users/smfsamir/narrative-reorder/model_analysis.ipynb#X12sZmlsZQ%3D%3D?line=14'>15</a>\u001b[0m         model\u001b[39m=\u001b[39;49m\u001b[39m\"\u001b[39;49m\u001b[39mgpt4v\u001b[39;49m\u001b[39m\"\u001b[39;49m,\n\u001b[1;32m     <a href='vscode-notebook-cell:/Users/smfsamir/narrative-reorder/model_analysis.ipynb#X12sZmlsZQ%3D%3D?line=15'>16</a>\u001b[0m         temperature\u001b[39m=\u001b[39;49m\u001b[39m0\u001b[39;49m,\n\u001b[1;32m     <a href='vscode-notebook-cell:/Users/smfsamir/narrative-reorder/model_analysis.ipynb#X12sZmlsZQ%3D%3D?line=16'>17</a>\u001b[0m         max_tokens \u001b[39m=\u001b[39;49m (\u001b[39m100\u001b[39;49m \u001b[39mif\u001b[39;49;00m \u001b[39mnot\u001b[39;49;00m predict_sents_and_labels \u001b[39melse\u001b[39;49;00m \u001b[39mlen\u001b[39;49m(enumerated_sents)),\n\u001b[1;32m     <a href='vscode-notebook-cell:/Users/smfsamir/narrative-reorder/model_analysis.ipynb#X12sZmlsZQ%3D%3D?line=17'>18</a>\u001b[0m         messages \u001b[39m=\u001b[39;49m message)\u001b[39m.\u001b[39mchoices[\u001b[39m0\u001b[39m]\u001b[39m.\u001b[39mmessage\u001b[39m.\u001b[39mcontent\n\u001b[1;32m     <a href='vscode-notebook-cell:/Users/smfsamir/narrative-reorder/model_analysis.ipynb#X12sZmlsZQ%3D%3D?line=18'>19</a>\u001b[0m \u001b[39mif\u001b[39;00m \u001b[39mnot\u001b[39;00m predict_sents_and_labels:\n\u001b[1;32m     <a href='vscode-notebook-cell:/Users/smfsamir/narrative-reorder/model_analysis.ipynb#X12sZmlsZQ%3D%3D?line=19'>20</a>\u001b[0m     \u001b[39mreturn\u001b[39;00m \u001b[39meval\u001b[39m(response) \u001b[39m# List[int]\u001b[39;00m\n",
      "File \u001b[0;32m~/mac_env/lib/python3.8/site-packages/openai/_utils/_utils.py:275\u001b[0m, in \u001b[0;36mrequired_args.<locals>.inner.<locals>.wrapper\u001b[0;34m(*args, **kwargs)\u001b[0m\n\u001b[1;32m    273\u001b[0m             msg \u001b[39m=\u001b[39m \u001b[39mf\u001b[39m\u001b[39m\"\u001b[39m\u001b[39mMissing required argument: \u001b[39m\u001b[39m{\u001b[39;00mquote(missing[\u001b[39m0\u001b[39m])\u001b[39m}\u001b[39;00m\u001b[39m\"\u001b[39m\n\u001b[1;32m    274\u001b[0m     \u001b[39mraise\u001b[39;00m \u001b[39mTypeError\u001b[39;00m(msg)\n\u001b[0;32m--> 275\u001b[0m \u001b[39mreturn\u001b[39;00m func(\u001b[39m*\u001b[39;49margs, \u001b[39m*\u001b[39;49m\u001b[39m*\u001b[39;49mkwargs)\n",
      "File \u001b[0;32m~/mac_env/lib/python3.8/site-packages/openai/resources/chat/completions.py:667\u001b[0m, in \u001b[0;36mCompletions.create\u001b[0;34m(self, messages, model, frequency_penalty, function_call, functions, logit_bias, logprobs, max_tokens, n, presence_penalty, response_format, seed, stop, stream, temperature, tool_choice, tools, top_logprobs, top_p, user, extra_headers, extra_query, extra_body, timeout)\u001b[0m\n\u001b[1;32m    615\u001b[0m \u001b[39m@required_args\u001b[39m([\u001b[39m\"\u001b[39m\u001b[39mmessages\u001b[39m\u001b[39m\"\u001b[39m, \u001b[39m\"\u001b[39m\u001b[39mmodel\u001b[39m\u001b[39m\"\u001b[39m], [\u001b[39m\"\u001b[39m\u001b[39mmessages\u001b[39m\u001b[39m\"\u001b[39m, \u001b[39m\"\u001b[39m\u001b[39mmodel\u001b[39m\u001b[39m\"\u001b[39m, \u001b[39m\"\u001b[39m\u001b[39mstream\u001b[39m\u001b[39m\"\u001b[39m])\n\u001b[1;32m    616\u001b[0m \u001b[39mdef\u001b[39;00m \u001b[39mcreate\u001b[39m(\n\u001b[1;32m    617\u001b[0m     \u001b[39mself\u001b[39m,\n\u001b[0;32m   (...)\u001b[0m\n\u001b[1;32m    665\u001b[0m     timeout: \u001b[39mfloat\u001b[39m \u001b[39m|\u001b[39m httpx\u001b[39m.\u001b[39mTimeout \u001b[39m|\u001b[39m \u001b[39mNone\u001b[39;00m \u001b[39m|\u001b[39m NotGiven \u001b[39m=\u001b[39m NOT_GIVEN,\n\u001b[1;32m    666\u001b[0m ) \u001b[39m-\u001b[39m\u001b[39m>\u001b[39m ChatCompletion \u001b[39m|\u001b[39m Stream[ChatCompletionChunk]:\n\u001b[0;32m--> 667\u001b[0m     \u001b[39mreturn\u001b[39;00m \u001b[39mself\u001b[39;49m\u001b[39m.\u001b[39;49m_post(\n\u001b[1;32m    668\u001b[0m         \u001b[39m\"\u001b[39;49m\u001b[39m/chat/completions\u001b[39;49m\u001b[39m\"\u001b[39;49m,\n\u001b[1;32m    669\u001b[0m         body\u001b[39m=\u001b[39;49mmaybe_transform(\n\u001b[1;32m    670\u001b[0m             {\n\u001b[1;32m    671\u001b[0m                 \u001b[39m\"\u001b[39;49m\u001b[39mmessages\u001b[39;49m\u001b[39m\"\u001b[39;49m: messages,\n\u001b[1;32m    672\u001b[0m                 \u001b[39m\"\u001b[39;49m\u001b[39mmodel\u001b[39;49m\u001b[39m\"\u001b[39;49m: model,\n\u001b[1;32m    673\u001b[0m                 \u001b[39m\"\u001b[39;49m\u001b[39mfrequency_penalty\u001b[39;49m\u001b[39m\"\u001b[39;49m: frequency_penalty,\n\u001b[1;32m    674\u001b[0m                 \u001b[39m\"\u001b[39;49m\u001b[39mfunction_call\u001b[39;49m\u001b[39m\"\u001b[39;49m: function_call,\n\u001b[1;32m    675\u001b[0m                 \u001b[39m\"\u001b[39;49m\u001b[39mfunctions\u001b[39;49m\u001b[39m\"\u001b[39;49m: functions,\n\u001b[1;32m    676\u001b[0m                 \u001b[39m\"\u001b[39;49m\u001b[39mlogit_bias\u001b[39;49m\u001b[39m\"\u001b[39;49m: logit_bias,\n\u001b[1;32m    677\u001b[0m                 \u001b[39m\"\u001b[39;49m\u001b[39mlogprobs\u001b[39;49m\u001b[39m\"\u001b[39;49m: logprobs,\n\u001b[1;32m    678\u001b[0m                 \u001b[39m\"\u001b[39;49m\u001b[39mmax_tokens\u001b[39;49m\u001b[39m\"\u001b[39;49m: max_tokens,\n\u001b[1;32m    679\u001b[0m                 \u001b[39m\"\u001b[39;49m\u001b[39mn\u001b[39;49m\u001b[39m\"\u001b[39;49m: n,\n\u001b[1;32m    680\u001b[0m                 \u001b[39m\"\u001b[39;49m\u001b[39mpresence_penalty\u001b[39;49m\u001b[39m\"\u001b[39;49m: presence_penalty,\n\u001b[1;32m    681\u001b[0m                 \u001b[39m\"\u001b[39;49m\u001b[39mresponse_format\u001b[39;49m\u001b[39m\"\u001b[39;49m: response_format,\n\u001b[1;32m    682\u001b[0m                 \u001b[39m\"\u001b[39;49m\u001b[39mseed\u001b[39;49m\u001b[39m\"\u001b[39;49m: seed,\n\u001b[1;32m    683\u001b[0m                 \u001b[39m\"\u001b[39;49m\u001b[39mstop\u001b[39;49m\u001b[39m\"\u001b[39;49m: stop,\n\u001b[1;32m    684\u001b[0m                 \u001b[39m\"\u001b[39;49m\u001b[39mstream\u001b[39;49m\u001b[39m\"\u001b[39;49m: stream,\n\u001b[1;32m    685\u001b[0m                 \u001b[39m\"\u001b[39;49m\u001b[39mtemperature\u001b[39;49m\u001b[39m\"\u001b[39;49m: temperature,\n\u001b[1;32m    686\u001b[0m                 \u001b[39m\"\u001b[39;49m\u001b[39mtool_choice\u001b[39;49m\u001b[39m\"\u001b[39;49m: tool_choice,\n\u001b[1;32m    687\u001b[0m                 \u001b[39m\"\u001b[39;49m\u001b[39mtools\u001b[39;49m\u001b[39m\"\u001b[39;49m: tools,\n\u001b[1;32m    688\u001b[0m                 \u001b[39m\"\u001b[39;49m\u001b[39mtop_logprobs\u001b[39;49m\u001b[39m\"\u001b[39;49m: top_logprobs,\n\u001b[1;32m    689\u001b[0m                 \u001b[39m\"\u001b[39;49m\u001b[39mtop_p\u001b[39;49m\u001b[39m\"\u001b[39;49m: top_p,\n\u001b[1;32m    690\u001b[0m                 \u001b[39m\"\u001b[39;49m\u001b[39muser\u001b[39;49m\u001b[39m\"\u001b[39;49m: user,\n\u001b[1;32m    691\u001b[0m             },\n\u001b[1;32m    692\u001b[0m             completion_create_params\u001b[39m.\u001b[39;49mCompletionCreateParams,\n\u001b[1;32m    693\u001b[0m         ),\n\u001b[1;32m    694\u001b[0m         options\u001b[39m=\u001b[39;49mmake_request_options(\n\u001b[1;32m    695\u001b[0m             extra_headers\u001b[39m=\u001b[39;49mextra_headers, extra_query\u001b[39m=\u001b[39;49mextra_query, extra_body\u001b[39m=\u001b[39;49mextra_body, timeout\u001b[39m=\u001b[39;49mtimeout\n\u001b[1;32m    696\u001b[0m         ),\n\u001b[1;32m    697\u001b[0m         cast_to\u001b[39m=\u001b[39;49mChatCompletion,\n\u001b[1;32m    698\u001b[0m         stream\u001b[39m=\u001b[39;49mstream \u001b[39mor\u001b[39;49;00m \u001b[39mFalse\u001b[39;49;00m,\n\u001b[1;32m    699\u001b[0m         stream_cls\u001b[39m=\u001b[39;49mStream[ChatCompletionChunk],\n\u001b[1;32m    700\u001b[0m     )\n",
      "File \u001b[0;32m~/mac_env/lib/python3.8/site-packages/openai/_base_client.py:1213\u001b[0m, in \u001b[0;36mSyncAPIClient.post\u001b[0;34m(self, path, cast_to, body, options, files, stream, stream_cls)\u001b[0m\n\u001b[1;32m   1199\u001b[0m \u001b[39mdef\u001b[39;00m \u001b[39mpost\u001b[39m(\n\u001b[1;32m   1200\u001b[0m     \u001b[39mself\u001b[39m,\n\u001b[1;32m   1201\u001b[0m     path: \u001b[39mstr\u001b[39m,\n\u001b[0;32m   (...)\u001b[0m\n\u001b[1;32m   1208\u001b[0m     stream_cls: \u001b[39mtype\u001b[39m[_StreamT] \u001b[39m|\u001b[39m \u001b[39mNone\u001b[39;00m \u001b[39m=\u001b[39m \u001b[39mNone\u001b[39;00m,\n\u001b[1;32m   1209\u001b[0m ) \u001b[39m-\u001b[39m\u001b[39m>\u001b[39m ResponseT \u001b[39m|\u001b[39m _StreamT:\n\u001b[1;32m   1210\u001b[0m     opts \u001b[39m=\u001b[39m FinalRequestOptions\u001b[39m.\u001b[39mconstruct(\n\u001b[1;32m   1211\u001b[0m         method\u001b[39m=\u001b[39m\u001b[39m\"\u001b[39m\u001b[39mpost\u001b[39m\u001b[39m\"\u001b[39m, url\u001b[39m=\u001b[39mpath, json_data\u001b[39m=\u001b[39mbody, files\u001b[39m=\u001b[39mto_httpx_files(files), \u001b[39m*\u001b[39m\u001b[39m*\u001b[39moptions\n\u001b[1;32m   1212\u001b[0m     )\n\u001b[0;32m-> 1213\u001b[0m     \u001b[39mreturn\u001b[39;00m cast(ResponseT, \u001b[39mself\u001b[39;49m\u001b[39m.\u001b[39;49mrequest(cast_to, opts, stream\u001b[39m=\u001b[39;49mstream, stream_cls\u001b[39m=\u001b[39;49mstream_cls))\n",
      "File \u001b[0;32m~/mac_env/lib/python3.8/site-packages/openai/_base_client.py:902\u001b[0m, in \u001b[0;36mSyncAPIClient.request\u001b[0;34m(self, cast_to, options, remaining_retries, stream, stream_cls)\u001b[0m\n\u001b[1;32m    893\u001b[0m \u001b[39mdef\u001b[39;00m \u001b[39mrequest\u001b[39m(\n\u001b[1;32m    894\u001b[0m     \u001b[39mself\u001b[39m,\n\u001b[1;32m    895\u001b[0m     cast_to: Type[ResponseT],\n\u001b[0;32m   (...)\u001b[0m\n\u001b[1;32m    900\u001b[0m     stream_cls: \u001b[39mtype\u001b[39m[_StreamT] \u001b[39m|\u001b[39m \u001b[39mNone\u001b[39;00m \u001b[39m=\u001b[39m \u001b[39mNone\u001b[39;00m,\n\u001b[1;32m    901\u001b[0m ) \u001b[39m-\u001b[39m\u001b[39m>\u001b[39m ResponseT \u001b[39m|\u001b[39m _StreamT:\n\u001b[0;32m--> 902\u001b[0m     \u001b[39mreturn\u001b[39;00m \u001b[39mself\u001b[39;49m\u001b[39m.\u001b[39;49m_request(\n\u001b[1;32m    903\u001b[0m         cast_to\u001b[39m=\u001b[39;49mcast_to,\n\u001b[1;32m    904\u001b[0m         options\u001b[39m=\u001b[39;49moptions,\n\u001b[1;32m    905\u001b[0m         stream\u001b[39m=\u001b[39;49mstream,\n\u001b[1;32m    906\u001b[0m         stream_cls\u001b[39m=\u001b[39;49mstream_cls,\n\u001b[1;32m    907\u001b[0m         remaining_retries\u001b[39m=\u001b[39;49mremaining_retries,\n\u001b[1;32m    908\u001b[0m     )\n",
      "File \u001b[0;32m~/mac_env/lib/python3.8/site-packages/openai/_base_client.py:931\u001b[0m, in \u001b[0;36mSyncAPIClient._request\u001b[0;34m(self, cast_to, options, remaining_retries, stream, stream_cls)\u001b[0m\n\u001b[1;32m    928\u001b[0m     kwargs[\u001b[39m\"\u001b[39m\u001b[39mauth\u001b[39m\u001b[39m\"\u001b[39m] \u001b[39m=\u001b[39m \u001b[39mself\u001b[39m\u001b[39m.\u001b[39mcustom_auth\n\u001b[1;32m    930\u001b[0m \u001b[39mtry\u001b[39;00m:\n\u001b[0;32m--> 931\u001b[0m     response \u001b[39m=\u001b[39m \u001b[39mself\u001b[39;49m\u001b[39m.\u001b[39;49m_client\u001b[39m.\u001b[39;49msend(\n\u001b[1;32m    932\u001b[0m         request,\n\u001b[1;32m    933\u001b[0m         stream\u001b[39m=\u001b[39;49mstream \u001b[39mor\u001b[39;49;00m \u001b[39mself\u001b[39;49m\u001b[39m.\u001b[39;49m_should_stream_response_body(request\u001b[39m=\u001b[39;49mrequest),\n\u001b[1;32m    934\u001b[0m         \u001b[39m*\u001b[39;49m\u001b[39m*\u001b[39;49mkwargs,\n\u001b[1;32m    935\u001b[0m     )\n\u001b[1;32m    936\u001b[0m \u001b[39mexcept\u001b[39;00m httpx\u001b[39m.\u001b[39mTimeoutException \u001b[39mas\u001b[39;00m err:\n\u001b[1;32m    937\u001b[0m     log\u001b[39m.\u001b[39mdebug(\u001b[39m\"\u001b[39m\u001b[39mEncountered httpx.TimeoutException\u001b[39m\u001b[39m\"\u001b[39m, exc_info\u001b[39m=\u001b[39m\u001b[39mTrue\u001b[39;00m)\n",
      "File \u001b[0;32m~/mac_env/lib/python3.8/site-packages/httpx/_client.py:914\u001b[0m, in \u001b[0;36mClient.send\u001b[0;34m(self, request, stream, auth, follow_redirects)\u001b[0m\n\u001b[1;32m    906\u001b[0m follow_redirects \u001b[39m=\u001b[39m (\n\u001b[1;32m    907\u001b[0m     \u001b[39mself\u001b[39m\u001b[39m.\u001b[39mfollow_redirects\n\u001b[1;32m    908\u001b[0m     \u001b[39mif\u001b[39;00m \u001b[39misinstance\u001b[39m(follow_redirects, UseClientDefault)\n\u001b[1;32m    909\u001b[0m     \u001b[39melse\u001b[39;00m follow_redirects\n\u001b[1;32m    910\u001b[0m )\n\u001b[1;32m    912\u001b[0m auth \u001b[39m=\u001b[39m \u001b[39mself\u001b[39m\u001b[39m.\u001b[39m_build_request_auth(request, auth)\n\u001b[0;32m--> 914\u001b[0m response \u001b[39m=\u001b[39m \u001b[39mself\u001b[39;49m\u001b[39m.\u001b[39;49m_send_handling_auth(\n\u001b[1;32m    915\u001b[0m     request,\n\u001b[1;32m    916\u001b[0m     auth\u001b[39m=\u001b[39;49mauth,\n\u001b[1;32m    917\u001b[0m     follow_redirects\u001b[39m=\u001b[39;49mfollow_redirects,\n\u001b[1;32m    918\u001b[0m     history\u001b[39m=\u001b[39;49m[],\n\u001b[1;32m    919\u001b[0m )\n\u001b[1;32m    920\u001b[0m \u001b[39mtry\u001b[39;00m:\n\u001b[1;32m    921\u001b[0m     \u001b[39mif\u001b[39;00m \u001b[39mnot\u001b[39;00m stream:\n",
      "File \u001b[0;32m~/mac_env/lib/python3.8/site-packages/httpx/_client.py:942\u001b[0m, in \u001b[0;36mClient._send_handling_auth\u001b[0;34m(self, request, auth, follow_redirects, history)\u001b[0m\n\u001b[1;32m    939\u001b[0m request \u001b[39m=\u001b[39m \u001b[39mnext\u001b[39m(auth_flow)\n\u001b[1;32m    941\u001b[0m \u001b[39mwhile\u001b[39;00m \u001b[39mTrue\u001b[39;00m:\n\u001b[0;32m--> 942\u001b[0m     response \u001b[39m=\u001b[39m \u001b[39mself\u001b[39;49m\u001b[39m.\u001b[39;49m_send_handling_redirects(\n\u001b[1;32m    943\u001b[0m         request,\n\u001b[1;32m    944\u001b[0m         follow_redirects\u001b[39m=\u001b[39;49mfollow_redirects,\n\u001b[1;32m    945\u001b[0m         history\u001b[39m=\u001b[39;49mhistory,\n\u001b[1;32m    946\u001b[0m     )\n\u001b[1;32m    947\u001b[0m     \u001b[39mtry\u001b[39;00m:\n\u001b[1;32m    948\u001b[0m         \u001b[39mtry\u001b[39;00m:\n",
      "File \u001b[0;32m~/mac_env/lib/python3.8/site-packages/httpx/_client.py:979\u001b[0m, in \u001b[0;36mClient._send_handling_redirects\u001b[0;34m(self, request, follow_redirects, history)\u001b[0m\n\u001b[1;32m    976\u001b[0m \u001b[39mfor\u001b[39;00m hook \u001b[39min\u001b[39;00m \u001b[39mself\u001b[39m\u001b[39m.\u001b[39m_event_hooks[\u001b[39m\"\u001b[39m\u001b[39mrequest\u001b[39m\u001b[39m\"\u001b[39m]:\n\u001b[1;32m    977\u001b[0m     hook(request)\n\u001b[0;32m--> 979\u001b[0m response \u001b[39m=\u001b[39m \u001b[39mself\u001b[39;49m\u001b[39m.\u001b[39;49m_send_single_request(request)\n\u001b[1;32m    980\u001b[0m \u001b[39mtry\u001b[39;00m:\n\u001b[1;32m    981\u001b[0m     \u001b[39mfor\u001b[39;00m hook \u001b[39min\u001b[39;00m \u001b[39mself\u001b[39m\u001b[39m.\u001b[39m_event_hooks[\u001b[39m\"\u001b[39m\u001b[39mresponse\u001b[39m\u001b[39m\"\u001b[39m]:\n",
      "File \u001b[0;32m~/mac_env/lib/python3.8/site-packages/httpx/_client.py:1015\u001b[0m, in \u001b[0;36mClient._send_single_request\u001b[0;34m(self, request)\u001b[0m\n\u001b[1;32m   1010\u001b[0m     \u001b[39mraise\u001b[39;00m \u001b[39mRuntimeError\u001b[39;00m(\n\u001b[1;32m   1011\u001b[0m         \u001b[39m\"\u001b[39m\u001b[39mAttempted to send an async request with a sync Client instance.\u001b[39m\u001b[39m\"\u001b[39m\n\u001b[1;32m   1012\u001b[0m     )\n\u001b[1;32m   1014\u001b[0m \u001b[39mwith\u001b[39;00m request_context(request\u001b[39m=\u001b[39mrequest):\n\u001b[0;32m-> 1015\u001b[0m     response \u001b[39m=\u001b[39m transport\u001b[39m.\u001b[39;49mhandle_request(request)\n\u001b[1;32m   1017\u001b[0m \u001b[39massert\u001b[39;00m \u001b[39misinstance\u001b[39m(response\u001b[39m.\u001b[39mstream, SyncByteStream)\n\u001b[1;32m   1019\u001b[0m response\u001b[39m.\u001b[39mrequest \u001b[39m=\u001b[39m request\n",
      "File \u001b[0;32m~/mac_env/lib/python3.8/site-packages/httpx/_transports/default.py:233\u001b[0m, in \u001b[0;36mHTTPTransport.handle_request\u001b[0;34m(self, request)\u001b[0m\n\u001b[1;32m    220\u001b[0m req \u001b[39m=\u001b[39m httpcore\u001b[39m.\u001b[39mRequest(\n\u001b[1;32m    221\u001b[0m     method\u001b[39m=\u001b[39mrequest\u001b[39m.\u001b[39mmethod,\n\u001b[1;32m    222\u001b[0m     url\u001b[39m=\u001b[39mhttpcore\u001b[39m.\u001b[39mURL(\n\u001b[0;32m   (...)\u001b[0m\n\u001b[1;32m    230\u001b[0m     extensions\u001b[39m=\u001b[39mrequest\u001b[39m.\u001b[39mextensions,\n\u001b[1;32m    231\u001b[0m )\n\u001b[1;32m    232\u001b[0m \u001b[39mwith\u001b[39;00m map_httpcore_exceptions():\n\u001b[0;32m--> 233\u001b[0m     resp \u001b[39m=\u001b[39m \u001b[39mself\u001b[39;49m\u001b[39m.\u001b[39;49m_pool\u001b[39m.\u001b[39;49mhandle_request(req)\n\u001b[1;32m    235\u001b[0m \u001b[39massert\u001b[39;00m \u001b[39misinstance\u001b[39m(resp\u001b[39m.\u001b[39mstream, typing\u001b[39m.\u001b[39mIterable)\n\u001b[1;32m    237\u001b[0m \u001b[39mreturn\u001b[39;00m Response(\n\u001b[1;32m    238\u001b[0m     status_code\u001b[39m=\u001b[39mresp\u001b[39m.\u001b[39mstatus,\n\u001b[1;32m    239\u001b[0m     headers\u001b[39m=\u001b[39mresp\u001b[39m.\u001b[39mheaders,\n\u001b[1;32m    240\u001b[0m     stream\u001b[39m=\u001b[39mResponseStream(resp\u001b[39m.\u001b[39mstream),\n\u001b[1;32m    241\u001b[0m     extensions\u001b[39m=\u001b[39mresp\u001b[39m.\u001b[39mextensions,\n\u001b[1;32m    242\u001b[0m )\n",
      "File \u001b[0;32m~/mac_env/lib/python3.8/site-packages/httpcore/_sync/connection_pool.py:216\u001b[0m, in \u001b[0;36mConnectionPool.handle_request\u001b[0;34m(self, request)\u001b[0m\n\u001b[1;32m    213\u001b[0m         closing \u001b[39m=\u001b[39m \u001b[39mself\u001b[39m\u001b[39m.\u001b[39m_assign_requests_to_connections()\n\u001b[1;32m    215\u001b[0m     \u001b[39mself\u001b[39m\u001b[39m.\u001b[39m_close_connections(closing)\n\u001b[0;32m--> 216\u001b[0m     \u001b[39mraise\u001b[39;00m exc \u001b[39mfrom\u001b[39;00m \u001b[39mNone\u001b[39;00m\n\u001b[1;32m    218\u001b[0m \u001b[39m# Return the response. Note that in this case we still have to manage\u001b[39;00m\n\u001b[1;32m    219\u001b[0m \u001b[39m# the point at which the response is closed.\u001b[39;00m\n\u001b[1;32m    220\u001b[0m \u001b[39massert\u001b[39;00m \u001b[39misinstance\u001b[39m(response\u001b[39m.\u001b[39mstream, Iterable)\n",
      "File \u001b[0;32m~/mac_env/lib/python3.8/site-packages/httpcore/_sync/connection_pool.py:196\u001b[0m, in \u001b[0;36mConnectionPool.handle_request\u001b[0;34m(self, request)\u001b[0m\n\u001b[1;32m    192\u001b[0m connection \u001b[39m=\u001b[39m pool_request\u001b[39m.\u001b[39mwait_for_connection(timeout\u001b[39m=\u001b[39mtimeout)\n\u001b[1;32m    194\u001b[0m \u001b[39mtry\u001b[39;00m:\n\u001b[1;32m    195\u001b[0m     \u001b[39m# Send the request on the assigned connection.\u001b[39;00m\n\u001b[0;32m--> 196\u001b[0m     response \u001b[39m=\u001b[39m connection\u001b[39m.\u001b[39;49mhandle_request(\n\u001b[1;32m    197\u001b[0m         pool_request\u001b[39m.\u001b[39;49mrequest\n\u001b[1;32m    198\u001b[0m     )\n\u001b[1;32m    199\u001b[0m \u001b[39mexcept\u001b[39;00m ConnectionNotAvailable:\n\u001b[1;32m    200\u001b[0m     \u001b[39m# In some cases a connection may initially be available to\u001b[39;00m\n\u001b[1;32m    201\u001b[0m     \u001b[39m# handle a request, but then become unavailable.\u001b[39;00m\n\u001b[1;32m    202\u001b[0m     \u001b[39m#\u001b[39;00m\n\u001b[1;32m    203\u001b[0m     \u001b[39m# In this case we clear the connection and try again.\u001b[39;00m\n\u001b[1;32m    204\u001b[0m     pool_request\u001b[39m.\u001b[39mclear_connection()\n",
      "File \u001b[0;32m~/mac_env/lib/python3.8/site-packages/httpcore/_sync/connection.py:101\u001b[0m, in \u001b[0;36mHTTPConnection.handle_request\u001b[0;34m(self, request)\u001b[0m\n\u001b[1;32m     98\u001b[0m     \u001b[39mself\u001b[39m\u001b[39m.\u001b[39m_connect_failed \u001b[39m=\u001b[39m \u001b[39mTrue\u001b[39;00m\n\u001b[1;32m     99\u001b[0m     \u001b[39mraise\u001b[39;00m exc\n\u001b[0;32m--> 101\u001b[0m \u001b[39mreturn\u001b[39;00m \u001b[39mself\u001b[39;49m\u001b[39m.\u001b[39;49m_connection\u001b[39m.\u001b[39;49mhandle_request(request)\n",
      "File \u001b[0;32m~/mac_env/lib/python3.8/site-packages/httpcore/_sync/http11.py:143\u001b[0m, in \u001b[0;36mHTTP11Connection.handle_request\u001b[0;34m(self, request)\u001b[0m\n\u001b[1;32m    141\u001b[0m     \u001b[39mwith\u001b[39;00m Trace(\u001b[39m\"\u001b[39m\u001b[39mresponse_closed\u001b[39m\u001b[39m\"\u001b[39m, logger, request) \u001b[39mas\u001b[39;00m trace:\n\u001b[1;32m    142\u001b[0m         \u001b[39mself\u001b[39m\u001b[39m.\u001b[39m_response_closed()\n\u001b[0;32m--> 143\u001b[0m \u001b[39mraise\u001b[39;00m exc\n",
      "File \u001b[0;32m~/mac_env/lib/python3.8/site-packages/httpcore/_sync/http11.py:113\u001b[0m, in \u001b[0;36mHTTP11Connection.handle_request\u001b[0;34m(self, request)\u001b[0m\n\u001b[1;32m    102\u001b[0m     \u001b[39mpass\u001b[39;00m\n\u001b[1;32m    104\u001b[0m \u001b[39mwith\u001b[39;00m Trace(\n\u001b[1;32m    105\u001b[0m     \u001b[39m\"\u001b[39m\u001b[39mreceive_response_headers\u001b[39m\u001b[39m\"\u001b[39m, logger, request, kwargs\n\u001b[1;32m    106\u001b[0m ) \u001b[39mas\u001b[39;00m trace:\n\u001b[1;32m    107\u001b[0m     (\n\u001b[1;32m    108\u001b[0m         http_version,\n\u001b[1;32m    109\u001b[0m         status,\n\u001b[1;32m    110\u001b[0m         reason_phrase,\n\u001b[1;32m    111\u001b[0m         headers,\n\u001b[1;32m    112\u001b[0m         trailing_data,\n\u001b[0;32m--> 113\u001b[0m     ) \u001b[39m=\u001b[39m \u001b[39mself\u001b[39;49m\u001b[39m.\u001b[39;49m_receive_response_headers(\u001b[39m*\u001b[39;49m\u001b[39m*\u001b[39;49mkwargs)\n\u001b[1;32m    114\u001b[0m     trace\u001b[39m.\u001b[39mreturn_value \u001b[39m=\u001b[39m (\n\u001b[1;32m    115\u001b[0m         http_version,\n\u001b[1;32m    116\u001b[0m         status,\n\u001b[1;32m    117\u001b[0m         reason_phrase,\n\u001b[1;32m    118\u001b[0m         headers,\n\u001b[1;32m    119\u001b[0m     )\n\u001b[1;32m    121\u001b[0m network_stream \u001b[39m=\u001b[39m \u001b[39mself\u001b[39m\u001b[39m.\u001b[39m_network_stream\n",
      "File \u001b[0;32m~/mac_env/lib/python3.8/site-packages/httpcore/_sync/http11.py:186\u001b[0m, in \u001b[0;36mHTTP11Connection._receive_response_headers\u001b[0;34m(self, request)\u001b[0m\n\u001b[1;32m    183\u001b[0m timeout \u001b[39m=\u001b[39m timeouts\u001b[39m.\u001b[39mget(\u001b[39m\"\u001b[39m\u001b[39mread\u001b[39m\u001b[39m\"\u001b[39m, \u001b[39mNone\u001b[39;00m)\n\u001b[1;32m    185\u001b[0m \u001b[39mwhile\u001b[39;00m \u001b[39mTrue\u001b[39;00m:\n\u001b[0;32m--> 186\u001b[0m     event \u001b[39m=\u001b[39m \u001b[39mself\u001b[39;49m\u001b[39m.\u001b[39;49m_receive_event(timeout\u001b[39m=\u001b[39;49mtimeout)\n\u001b[1;32m    187\u001b[0m     \u001b[39mif\u001b[39;00m \u001b[39misinstance\u001b[39m(event, h11\u001b[39m.\u001b[39mResponse):\n\u001b[1;32m    188\u001b[0m         \u001b[39mbreak\u001b[39;00m\n",
      "File \u001b[0;32m~/mac_env/lib/python3.8/site-packages/httpcore/_sync/http11.py:224\u001b[0m, in \u001b[0;36mHTTP11Connection._receive_event\u001b[0;34m(self, timeout)\u001b[0m\n\u001b[1;32m    221\u001b[0m     event \u001b[39m=\u001b[39m \u001b[39mself\u001b[39m\u001b[39m.\u001b[39m_h11_state\u001b[39m.\u001b[39mnext_event()\n\u001b[1;32m    223\u001b[0m \u001b[39mif\u001b[39;00m event \u001b[39mis\u001b[39;00m h11\u001b[39m.\u001b[39mNEED_DATA:\n\u001b[0;32m--> 224\u001b[0m     data \u001b[39m=\u001b[39m \u001b[39mself\u001b[39;49m\u001b[39m.\u001b[39;49m_network_stream\u001b[39m.\u001b[39;49mread(\n\u001b[1;32m    225\u001b[0m         \u001b[39mself\u001b[39;49m\u001b[39m.\u001b[39;49mREAD_NUM_BYTES, timeout\u001b[39m=\u001b[39;49mtimeout\n\u001b[1;32m    226\u001b[0m     )\n\u001b[1;32m    228\u001b[0m     \u001b[39m# If we feed this case through h11 we'll raise an exception like:\u001b[39;00m\n\u001b[1;32m    229\u001b[0m     \u001b[39m#\u001b[39;00m\n\u001b[1;32m    230\u001b[0m     \u001b[39m#     httpcore.RemoteProtocolError: can't handle event type\u001b[39;00m\n\u001b[0;32m   (...)\u001b[0m\n\u001b[1;32m    234\u001b[0m     \u001b[39m# perspective. Instead we handle this case distinctly and treat\u001b[39;00m\n\u001b[1;32m    235\u001b[0m     \u001b[39m# it as a ConnectError.\u001b[39;00m\n\u001b[1;32m    236\u001b[0m     \u001b[39mif\u001b[39;00m data \u001b[39m==\u001b[39m \u001b[39mb\u001b[39m\u001b[39m\"\u001b[39m\u001b[39m\"\u001b[39m \u001b[39mand\u001b[39;00m \u001b[39mself\u001b[39m\u001b[39m.\u001b[39m_h11_state\u001b[39m.\u001b[39mtheir_state \u001b[39m==\u001b[39m h11\u001b[39m.\u001b[39mSEND_RESPONSE:\n",
      "File \u001b[0;32m~/mac_env/lib/python3.8/site-packages/httpcore/_backends/sync.py:126\u001b[0m, in \u001b[0;36mSyncStream.read\u001b[0;34m(self, max_bytes, timeout)\u001b[0m\n\u001b[1;32m    124\u001b[0m \u001b[39mwith\u001b[39;00m map_exceptions(exc_map):\n\u001b[1;32m    125\u001b[0m     \u001b[39mself\u001b[39m\u001b[39m.\u001b[39m_sock\u001b[39m.\u001b[39msettimeout(timeout)\n\u001b[0;32m--> 126\u001b[0m     \u001b[39mreturn\u001b[39;00m \u001b[39mself\u001b[39;49m\u001b[39m.\u001b[39;49m_sock\u001b[39m.\u001b[39;49mrecv(max_bytes)\n",
      "File \u001b[0;32m/Library/Developer/CommandLineTools/Library/Frameworks/Python3.framework/Versions/3.8/lib/python3.8/ssl.py:1226\u001b[0m, in \u001b[0;36mSSLSocket.recv\u001b[0;34m(self, buflen, flags)\u001b[0m\n\u001b[1;32m   1222\u001b[0m     \u001b[39mif\u001b[39;00m flags \u001b[39m!=\u001b[39m \u001b[39m0\u001b[39m:\n\u001b[1;32m   1223\u001b[0m         \u001b[39mraise\u001b[39;00m \u001b[39mValueError\u001b[39;00m(\n\u001b[1;32m   1224\u001b[0m             \u001b[39m\"\u001b[39m\u001b[39mnon-zero flags not allowed in calls to recv() on \u001b[39m\u001b[39m%s\u001b[39;00m\u001b[39m\"\u001b[39m \u001b[39m%\u001b[39m\n\u001b[1;32m   1225\u001b[0m             \u001b[39mself\u001b[39m\u001b[39m.\u001b[39m\u001b[39m__class__\u001b[39m)\n\u001b[0;32m-> 1226\u001b[0m     \u001b[39mreturn\u001b[39;00m \u001b[39mself\u001b[39;49m\u001b[39m.\u001b[39;49mread(buflen)\n\u001b[1;32m   1227\u001b[0m \u001b[39melse\u001b[39;00m:\n\u001b[1;32m   1228\u001b[0m     \u001b[39mreturn\u001b[39;00m \u001b[39msuper\u001b[39m()\u001b[39m.\u001b[39mrecv(buflen, flags)\n",
      "File \u001b[0;32m/Library/Developer/CommandLineTools/Library/Frameworks/Python3.framework/Versions/3.8/lib/python3.8/ssl.py:1101\u001b[0m, in \u001b[0;36mSSLSocket.read\u001b[0;34m(self, len, buffer)\u001b[0m\n\u001b[1;32m   1099\u001b[0m         \u001b[39mreturn\u001b[39;00m \u001b[39mself\u001b[39m\u001b[39m.\u001b[39m_sslobj\u001b[39m.\u001b[39mread(\u001b[39mlen\u001b[39m, buffer)\n\u001b[1;32m   1100\u001b[0m     \u001b[39melse\u001b[39;00m:\n\u001b[0;32m-> 1101\u001b[0m         \u001b[39mreturn\u001b[39;00m \u001b[39mself\u001b[39;49m\u001b[39m.\u001b[39;49m_sslobj\u001b[39m.\u001b[39;49mread(\u001b[39mlen\u001b[39;49m)\n\u001b[1;32m   1102\u001b[0m \u001b[39mexcept\u001b[39;00m SSLError \u001b[39mas\u001b[39;00m x:\n\u001b[1;32m   1103\u001b[0m     \u001b[39mif\u001b[39;00m x\u001b[39m.\u001b[39margs[\u001b[39m0\u001b[39m] \u001b[39m==\u001b[39m SSL_ERROR_EOF \u001b[39mand\u001b[39;00m \u001b[39mself\u001b[39m\u001b[39m.\u001b[39msuppress_ragged_eofs:\n",
      "\u001b[0;31mKeyboardInterrupt\u001b[0m: "
     ]
    }
   ],
   "source": [
    "from tqdm import tqdm\n",
    "import loguru\n",
    "from typing import List\n",
    "\n",
    "logger = loguru.logger\n",
    "def predict_order(sorted_sents: List[str], shuffled_inds: List[int], predict_sents_and_labels: bool = False):\n",
    "    if not predict_sents_and_labels:\n",
    "        prompt = \"Please arrange the following shuffled sentences in the correct order in the form of a list of integers that can be read by a python interpreter (e.g., [1,4,3,2]).\\n\\n\"\n",
    "    else: # predict the sentences and the labels\n",
    "        prompt = \"Please arrange the following shuffled sentences in the correct order in the form of an enumerated list (e.g., 4. {sentence 4} 1. {sentence 1}, ...).\\n\\n\" \n",
    "    enumerated_sents = \"\\n\".join([f\"{i}. {sorted_sents[ind]}\" for i, ind in enumerate(shuffled_inds)])\n",
    "    prompt_and_sents = prompt + enumerated_sents\n",
    "    message = [{\"role\": \"user\", \"content\": prompt_and_sents}]\n",
    "    response = client.chat.completions.create(\n",
    "            model=\"gpt4v\",\n",
    "            temperature=0,\n",
    "            max_tokens = (100 if not predict_sents_and_labels else len(enumerated_sents)),\n",
    "            messages = message).choices[0].message.content\n",
    "    if not predict_sents_and_labels:\n",
    "        return eval(response) # List[int]\n",
    "    else:\n",
    "        # have to parse.\n",
    "        # split by newline\n",
    "        response = response.split(\"\\n\")\n",
    "        # then take the number at the beginning of each line\n",
    "        numbers = [int(line.split(\".\")[0]) for line in response]\n",
    "        return numbers\n",
    "# test\n",
    "# predicted_labels = predict_order(df_pl['sentence'][0].to_list())\n",
    "num_passed_filter = 0\n",
    "for i in tqdm(range(len(df_pl))):\n",
    "    try:\n",
    "        predicted_labels = predict_order(df_pl['sentence'][i].to_list(), df_pl['shuffled_indices'][i].to_list(), predict_sents_and_labels=True)\n",
    "    except openai.BadRequestError as e: # Sometimes doesn't make it through the content filter\n",
    "        logger.error(\"Content filter was triggered. Skipping this one.\")\n",
    "logger.info(f\"Proportion of stories that passed the content filter: {(num_passed_filter)/len(df_pl):.3f}\")\n",
    "\n",
    "# rrrrrrrrr = df_pl['sentence'][0].to_list()\n",
    "# shuffled_indices = df_pl['shuffled_indices'][0].to_list()\n",
    "# response = predict_order(sentences, shuffled_indices)\n",
    "# print(response)\n",
    "# print(sentences)\n",
    "# print(shuffled_indices)"
   ]
  },
  {
   "cell_type": "code",
   "execution_count": 83,
   "metadata": {},
   "outputs": [
    {
     "data": {
      "text/plain": [
       "[[4, 2, 7, 5, 0, 3, 1, 6, 8]]"
      ]
     },
     "execution_count": 83,
     "metadata": {},
     "output_type": "execute_result"
    }
   ],
   "source": [
    "df_pl[3]['shuffled_indices'].to_list()"
   ]
  },
  {
   "cell_type": "code",
   "execution_count": 72,
   "metadata": {},
   "outputs": [
    {
     "data": {
      "text/plain": [
       "['once upon a time there lived a little girl called Wednesday.',\n",
       " 'she lived in a big house in a dark forest where it was always misty.',\n",
       " 'they lived in a on a hill.',\n",
       " 'and down in the hill there was a bright called Roabloxean.',\n",
       " 'they never left the house.',\n",
       " 'and one day the a plant got both of them out of their bed.',\n",
       " 'Wednesday said now may you please put me down and it did.',\n",
       " 'she went to breakfast down.',\n",
       " 'her mother said dust the floor think wake up the kids.',\n",
       " 'and they were already down.',\n",
       " 'she was surprised.',\n",
       " 'and they knew why.',\n",
       " 'they ate breakfast.',\n",
       " 'the end.']"
      ]
     },
     "execution_count": 72,
     "metadata": {},
     "output_type": "execute_result"
    }
   ],
   "source": [
    "df_pl['sentence'][1].to_list()"
   ]
  }
 ],
 "metadata": {
  "kernelspec": {
   "display_name": "mac_env",
   "language": "python",
   "name": "python3"
  },
  "language_info": {
   "codemirror_mode": {
    "name": "ipython",
    "version": 3
   },
   "file_extension": ".py",
   "mimetype": "text/x-python",
   "name": "python",
   "nbconvert_exporter": "python",
   "pygments_lexer": "ipython3",
   "version": "3.8.9"
  }
 },
 "nbformat": 4,
 "nbformat_minor": 2
}
